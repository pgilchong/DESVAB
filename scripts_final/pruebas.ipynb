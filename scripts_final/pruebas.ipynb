{
 "cells": [
  {
   "cell_type": "code",
   "execution_count": 1,
   "metadata": {},
   "outputs": [],
   "source": [
    "from area_energia import AreaEnergia\n",
    "\n",
    "ae = AreaEnergia()"
   ]
  },
  {
   "cell_type": "code",
   "execution_count": 4,
   "metadata": {},
   "outputs": [
    {
     "data": {
      "text/html": [
       "<div>\n",
       "<style scoped>\n",
       "    .dataframe tbody tr th:only-of-type {\n",
       "        vertical-align: middle;\n",
       "    }\n",
       "\n",
       "    .dataframe tbody tr th {\n",
       "        vertical-align: top;\n",
       "    }\n",
       "\n",
       "    .dataframe thead th {\n",
       "        text-align: right;\n",
       "    }\n",
       "</style>\n",
       "<table border=\"1\" class=\"dataframe\">\n",
       "  <thead>\n",
       "    <tr style=\"text-align: right;\">\n",
       "      <th></th>\n",
       "      <th>ID</th>\n",
       "      <th>Antigüedad</th>\n",
       "      <th>Letra</th>\n",
       "      <th>Total Certificados</th>\n",
       "      <th>Media Consumo</th>\n",
       "    </tr>\n",
       "  </thead>\n",
       "  <tbody>\n",
       "    <tr>\n",
       "      <th>0</th>\n",
       "      <td>1.1</td>\n",
       "      <td>&lt;= 1800</td>\n",
       "      <td>A</td>\n",
       "      <td>0.000000</td>\n",
       "      <td>0.0</td>\n",
       "    </tr>\n",
       "    <tr>\n",
       "      <th>1</th>\n",
       "      <td>1.1</td>\n",
       "      <td>&lt;= 1800</td>\n",
       "      <td>B</td>\n",
       "      <td>0.000000</td>\n",
       "      <td>0.0</td>\n",
       "    </tr>\n",
       "    <tr>\n",
       "      <th>2</th>\n",
       "      <td>1.1</td>\n",
       "      <td>&lt;= 1800</td>\n",
       "      <td>C</td>\n",
       "      <td>3.333333</td>\n",
       "      <td>44.0</td>\n",
       "    </tr>\n",
       "    <tr>\n",
       "      <th>3</th>\n",
       "      <td>1.1</td>\n",
       "      <td>&lt;= 1800</td>\n",
       "      <td>D</td>\n",
       "      <td>3.333333</td>\n",
       "      <td>52.0</td>\n",
       "    </tr>\n",
       "    <tr>\n",
       "      <th>4</th>\n",
       "      <td>1.1</td>\n",
       "      <td>&lt;= 1800</td>\n",
       "      <td>E</td>\n",
       "      <td>6.666667</td>\n",
       "      <td>125.5</td>\n",
       "    </tr>\n",
       "    <tr>\n",
       "      <th>...</th>\n",
       "      <td>...</td>\n",
       "      <td>...</td>\n",
       "      <td>...</td>\n",
       "      <td>...</td>\n",
       "      <td>...</td>\n",
       "    </tr>\n",
       "    <tr>\n",
       "      <th>5476</th>\n",
       "      <td>9.5</td>\n",
       "      <td>2011-21</td>\n",
       "      <td>C</td>\n",
       "      <td>NaN</td>\n",
       "      <td>0.0</td>\n",
       "    </tr>\n",
       "    <tr>\n",
       "      <th>5477</th>\n",
       "      <td>9.5</td>\n",
       "      <td>2011-21</td>\n",
       "      <td>D</td>\n",
       "      <td>NaN</td>\n",
       "      <td>0.0</td>\n",
       "    </tr>\n",
       "    <tr>\n",
       "      <th>5478</th>\n",
       "      <td>9.5</td>\n",
       "      <td>2011-21</td>\n",
       "      <td>E</td>\n",
       "      <td>NaN</td>\n",
       "      <td>0.0</td>\n",
       "    </tr>\n",
       "    <tr>\n",
       "      <th>5479</th>\n",
       "      <td>9.5</td>\n",
       "      <td>2011-21</td>\n",
       "      <td>F</td>\n",
       "      <td>NaN</td>\n",
       "      <td>0.0</td>\n",
       "    </tr>\n",
       "    <tr>\n",
       "      <th>5480</th>\n",
       "      <td>9.5</td>\n",
       "      <td>2011-21</td>\n",
       "      <td>G</td>\n",
       "      <td>NaN</td>\n",
       "      <td>0.0</td>\n",
       "    </tr>\n",
       "  </tbody>\n",
       "</table>\n",
       "<p>5481 rows × 5 columns</p>\n",
       "</div>"
      ],
      "text/plain": [
       "       ID Antigüedad Letra  Total Certificados  Media Consumo\n",
       "0     1.1    <= 1800     A            0.000000            0.0\n",
       "1     1.1    <= 1800     B            0.000000            0.0\n",
       "2     1.1    <= 1800     C            3.333333           44.0\n",
       "3     1.1    <= 1800     D            3.333333           52.0\n",
       "4     1.1    <= 1800     E            6.666667          125.5\n",
       "...   ...        ...   ...                 ...            ...\n",
       "5476  9.5    2011-21     C                 NaN            0.0\n",
       "5477  9.5    2011-21     D                 NaN            0.0\n",
       "5478  9.5    2011-21     E                 NaN            0.0\n",
       "5479  9.5    2011-21     F                 NaN            0.0\n",
       "5480  9.5    2011-21     G                 NaN            0.0\n",
       "\n",
       "[5481 rows x 5 columns]"
      ]
     },
     "execution_count": 4,
     "metadata": {},
     "output_type": "execute_result"
    }
   ],
   "source": [
    "ae.distribucion_certificados_consumo"
   ]
  },
  {
   "cell_type": "code",
   "execution_count": 15,
   "metadata": {},
   "outputs": [
    {
     "data": {
      "text/plain": [
       "ID   Letra\n",
       "1.1  F        267.749497\n",
       "     G        307.398388\n",
       "1.2  F        239.078743\n",
       "     G        396.622855\n",
       "1.3  F        278.484676\n",
       "                 ...    \n",
       "9.3  G        494.277291\n",
       "9.4  F        350.141874\n",
       "     G        929.050330\n",
       "9.5  F        117.832446\n",
       "     G        261.741611\n",
       "Name: Total Certificados, Length: 174, dtype: float64"
      ]
     },
     "execution_count": 15,
     "metadata": {},
     "output_type": "execute_result"
    }
   ],
   "source": [
    "ae.distribucion_certificados_consumo[ae.distribucion_certificados_consumo['Letra'].isin(['F', 'G'])].groupby(['ID', 'Letra']).sum(numeric_only=True)['Total Certificados']"
   ]
  },
  {
   "cell_type": "code",
   "execution_count": 2,
   "metadata": {},
   "outputs": [],
   "source": [
    "ae._e1_get_potencial_pv()"
   ]
  },
  {
   "cell_type": "code",
   "execution_count": 3,
   "metadata": {},
   "outputs": [
    {
     "data": {
      "text/html": [
       "<div>\n",
       "<style scoped>\n",
       "    .dataframe tbody tr th:only-of-type {\n",
       "        vertical-align: middle;\n",
       "    }\n",
       "\n",
       "    .dataframe tbody tr th {\n",
       "        vertical-align: top;\n",
       "    }\n",
       "\n",
       "    .dataframe thead th {\n",
       "        text-align: right;\n",
       "    }\n",
       "</style>\n",
       "<table border=\"1\" class=\"dataframe\">\n",
       "  <thead>\n",
       "    <tr style=\"text-align: right;\">\n",
       "      <th></th>\n",
       "      <th>Residencial</th>\n",
       "      <th>Comercial</th>\n",
       "      <th>Industrial</th>\n",
       "      <th>ServiciosPúblicos</th>\n",
       "      <th>Agricultura</th>\n",
       "    </tr>\n",
       "  </thead>\n",
       "  <tbody>\n",
       "    <tr>\n",
       "      <th>1.1</th>\n",
       "      <td>4410.666601</td>\n",
       "      <td>390.622173</td>\n",
       "      <td>0.000000</td>\n",
       "      <td>1500.694213</td>\n",
       "      <td>0.000000</td>\n",
       "    </tr>\n",
       "    <tr>\n",
       "      <th>1.2</th>\n",
       "      <td>6237.886014</td>\n",
       "      <td>1024.246709</td>\n",
       "      <td>89.912286</td>\n",
       "      <td>1785.026516</td>\n",
       "      <td>0.000000</td>\n",
       "    </tr>\n",
       "    <tr>\n",
       "      <th>1.3</th>\n",
       "      <td>5653.322327</td>\n",
       "      <td>310.475052</td>\n",
       "      <td>154.972302</td>\n",
       "      <td>791.475198</td>\n",
       "      <td>0.000000</td>\n",
       "    </tr>\n",
       "    <tr>\n",
       "      <th>1.4</th>\n",
       "      <td>5479.479380</td>\n",
       "      <td>242.982418</td>\n",
       "      <td>12.519380</td>\n",
       "      <td>441.606010</td>\n",
       "      <td>0.000000</td>\n",
       "    </tr>\n",
       "    <tr>\n",
       "      <th>1.5</th>\n",
       "      <td>4208.398235</td>\n",
       "      <td>303.736553</td>\n",
       "      <td>16.003117</td>\n",
       "      <td>555.180868</td>\n",
       "      <td>0.000000</td>\n",
       "    </tr>\n",
       "    <tr>\n",
       "      <th>...</th>\n",
       "      <td>...</td>\n",
       "      <td>...</td>\n",
       "      <td>...</td>\n",
       "      <td>...</td>\n",
       "      <td>...</td>\n",
       "    </tr>\n",
       "    <tr>\n",
       "      <th>9.1</th>\n",
       "      <td>12924.520949</td>\n",
       "      <td>540.762930</td>\n",
       "      <td>53.839046</td>\n",
       "      <td>651.303718</td>\n",
       "      <td>0.000000</td>\n",
       "    </tr>\n",
       "    <tr>\n",
       "      <th>9.2</th>\n",
       "      <td>13026.735706</td>\n",
       "      <td>722.356280</td>\n",
       "      <td>385.089357</td>\n",
       "      <td>639.146325</td>\n",
       "      <td>0.000000</td>\n",
       "    </tr>\n",
       "    <tr>\n",
       "      <th>9.3</th>\n",
       "      <td>4918.780148</td>\n",
       "      <td>357.316180</td>\n",
       "      <td>3301.954096</td>\n",
       "      <td>157.200709</td>\n",
       "      <td>0.000000</td>\n",
       "    </tr>\n",
       "    <tr>\n",
       "      <th>9.4</th>\n",
       "      <td>8235.247732</td>\n",
       "      <td>92.285937</td>\n",
       "      <td>0.000000</td>\n",
       "      <td>732.318849</td>\n",
       "      <td>0.000000</td>\n",
       "    </tr>\n",
       "    <tr>\n",
       "      <th>9.5</th>\n",
       "      <td>3476.809002</td>\n",
       "      <td>40.756824</td>\n",
       "      <td>3075.428743</td>\n",
       "      <td>13465.247274</td>\n",
       "      <td>9.970682</td>\n",
       "    </tr>\n",
       "  </tbody>\n",
       "</table>\n",
       "<p>87 rows × 5 columns</p>\n",
       "</div>"
      ],
      "text/plain": [
       "      Residencial    Comercial   Industrial  ServiciosPúblicos  Agricultura\n",
       "1.1   4410.666601   390.622173     0.000000        1500.694213     0.000000\n",
       "1.2   6237.886014  1024.246709    89.912286        1785.026516     0.000000\n",
       "1.3   5653.322327   310.475052   154.972302         791.475198     0.000000\n",
       "1.4   5479.479380   242.982418    12.519380         441.606010     0.000000\n",
       "1.5   4208.398235   303.736553    16.003117         555.180868     0.000000\n",
       "..            ...          ...          ...                ...          ...\n",
       "9.1  12924.520949   540.762930    53.839046         651.303718     0.000000\n",
       "9.2  13026.735706   722.356280   385.089357         639.146325     0.000000\n",
       "9.3   4918.780148   357.316180  3301.954096         157.200709     0.000000\n",
       "9.4   8235.247732    92.285937     0.000000         732.318849     0.000000\n",
       "9.5   3476.809002    40.756824  3075.428743       13465.247274     9.970682\n",
       "\n",
       "[87 rows x 5 columns]"
      ]
     },
     "execution_count": 3,
     "metadata": {},
     "output_type": "execute_result"
    }
   ],
   "source": [
    "ae.potencial_pv"
   ]
  },
  {
   "cell_type": "code",
   "execution_count": 5,
   "metadata": {},
   "outputs": [
    {
     "ename": "TypeError",
     "evalue": "must be real number, not list",
     "output_type": "error",
     "traceback": [
      "\u001b[1;31m---------------------------------------------------------------------------\u001b[0m",
      "\u001b[1;31mTypeError\u001b[0m                                 Traceback (most recent call last)",
      "\u001b[1;32m~\\AppData\\Local\\Temp\\ipykernel_26060\\2417184939.py\u001b[0m in \u001b[0;36m<module>\u001b[1;34m\u001b[0m\n\u001b[0;32m      1\u001b[0m \u001b[1;32mfrom\u001b[0m \u001b[0mmath\u001b[0m \u001b[1;32mimport\u001b[0m \u001b[0mfloor\u001b[0m\u001b[1;33m\u001b[0m\u001b[1;33m\u001b[0m\u001b[0m\n\u001b[0;32m      2\u001b[0m \u001b[1;33m\u001b[0m\u001b[0m\n\u001b[1;32m----> 3\u001b[1;33m \u001b[0mfloor\u001b[0m\u001b[1;33m(\u001b[0m\u001b[1;33m[\u001b[0m\u001b[1;36m50\u001b[0m\u001b[1;33m,\u001b[0m \u001b[1;33m-\u001b[0m\u001b[1;36m1\u001b[0m\u001b[1;33m]\u001b[0m\u001b[1;33m)\u001b[0m\u001b[1;33m\u001b[0m\u001b[1;33m\u001b[0m\u001b[0m\n\u001b[0m",
      "\u001b[1;31mTypeError\u001b[0m: must be real number, not list"
     ]
    }
   ],
   "source": [
    "from math import floor\n",
    "\n",
    "floor([50, -1])"
   ]
  },
  {
   "cell_type": "code",
   "execution_count": 1,
   "metadata": {},
   "outputs": [],
   "source": [
    "from area_urbanismo import AreaUrbanismo\n",
    "\n",
    "au = AreaUrbanismo()"
   ]
  },
  {
   "cell_type": "code",
   "execution_count": 3,
   "metadata": {},
   "outputs": [
    {
     "name": "stderr",
     "output_type": "stream",
     "text": [
      "c:\\Users\\pablo\\Anaconda3\\envs\\py310\\lib\\site-packages\\IPython\\core\\interactiveshell.py:3457: FutureWarning: The `op` parameter is deprecated and will be removed in a future release. Please use the `predicate` parameter instead.\n",
      "  exec(code_obj, self.user_global_ns, self.user_ns)\n"
     ]
    }
   ],
   "source": [
    "x = au._get_area_tipologias()"
   ]
  },
  {
   "cell_type": "code",
   "execution_count": 6,
   "metadata": {},
   "outputs": [
    {
     "data": {
      "text/plain": [
       "Index(['1.1', '1.2', '1.3', '1.4', '1.5', '1.6', '10.1', '10.2', '10.3',\n",
       "       '10.4', '10.5', '10.6', '10.7', '11.1', '11.2', '11.3', '11.4', '11.5',\n",
       "       '12.1', '12.2', '12.3', '12.4', '12.5', '13.1', '13.2', '13.3', '13.4',\n",
       "       '13.5', '14.1', '14.2', '15.1', '15.2', '15.3', '16.1', '16.2', '17.1',\n",
       "       '17.2', '17.3', '17.4', '17.5', '17.6', '17.7', '18.1', '18.2', '19.1',\n",
       "       '19.2', '19.3', '19.4', '19.5', '19.6', '19.7', '19.8', '2.1', '2.2',\n",
       "       '2.3', '3.1', '3.2', '3.3', '3.4', '4.1', '4.2', '4.3', '4.4', '5.1',\n",
       "       '5.2', '5.3', '5.4', '5.5', '6.1', '6.2', '6.3', '6.4', '7.1', '7.2',\n",
       "       '7.3', '7.4', '7.5', '8.1', '8.2', '8.3', '8.4', '8.5', '9.1', '9.2',\n",
       "       '9.3', '9.4', '9.5'],\n",
       "      dtype='object', name='ID')"
      ]
     },
     "execution_count": 6,
     "metadata": {},
     "output_type": "execute_result"
    }
   ],
   "source": [
    "x.index"
   ]
  },
  {
   "cell_type": "code",
   "execution_count": null,
   "metadata": {},
   "outputs": [],
   "source": []
  }
 ],
 "metadata": {
  "kernelspec": {
   "display_name": "py310",
   "language": "python",
   "name": "python3"
  },
  "language_info": {
   "codemirror_mode": {
    "name": "ipython",
    "version": 3
   },
   "file_extension": ".py",
   "mimetype": "text/x-python",
   "name": "python",
   "nbconvert_exporter": "python",
   "pygments_lexer": "ipython3",
   "version": "3.10.9"
  }
 },
 "nbformat": 4,
 "nbformat_minor": 2
}
